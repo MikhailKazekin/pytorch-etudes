{
 "cells": [
  {
   "cell_type": "code",
   "execution_count": 1,
   "metadata": {},
   "outputs": [],
   "source": [
    "import matplotlib.pyplot as plt\n",
    "\n",
    "import torch\n",
    "from torch.autograd import Variable\n",
    "from torch.nn.modules.module import Module"
   ]
  },
  {
   "cell_type": "code",
   "execution_count": 43,
   "metadata": {},
   "outputs": [
    {
     "name": "stdout",
     "output_type": "stream",
     "text": [
      "(0) Losses: 207924.15625 197852.29688\n"
     ]
    },
    {
     "name": "stdout",
     "output_type": "stream",
     "text": [
      "(5000) Losses: 12343.46094 13234.54590\n"
     ]
    },
    {
     "name": "stdout",
     "output_type": "stream",
     "text": [
      "(10000) Losses: 11288.56055 25869.25391\n"
     ]
    },
    {
     "name": "stdout",
     "output_type": "stream",
     "text": [
      "(15000) Losses: 18128.70312 17955.61523\n"
     ]
    },
    {
     "name": "stdout",
     "output_type": "stream",
     "text": [
      "(20000) Losses: 20201.23047 12593.58203\n"
     ]
    },
    {
     "name": "stdout",
     "output_type": "stream",
     "text": [
      "(25000) Losses: 16345.78906 16185.15430\n"
     ]
    },
    {
     "name": "stdout",
     "output_type": "stream",
     "text": [
      "(30000) Losses: 15182.40820 14415.92285\n"
     ]
    },
    {
     "name": "stdout",
     "output_type": "stream",
     "text": [
      "(35000) Losses: 14778.09766 20112.81250\n"
     ]
    },
    {
     "name": "stdout",
     "output_type": "stream",
     "text": [
      "(40000) Losses: 15801.69922 19297.00586\n"
     ]
    },
    {
     "name": "stdout",
     "output_type": "stream",
     "text": [
      "(45000) Losses: 17767.71484 12060.68359\n"
     ]
    }
   ],
   "source": [
    "class FuncNet(Module):\n",
    "\n",
    "    def __init__(self):\n",
    "        super(FuncNet, self).__init__()\n",
    "\n",
    "        H = 20\n",
    "        self._layers = [\n",
    "            torch.nn.Linear(1, H),\n",
    "            torch.nn.ReLU(),\n",
    "            torch.nn.Linear(H, 1),\n",
    "        ]\n",
    "\n",
    "        self._model = torch.nn.Sequential(*self._layers)\n",
    "        \n",
    "        self._model.cuda()\n",
    "\n",
    "    def forward(self, *input):\n",
    "        return self._model(*input)\n",
    "\n",
    "func_net = FuncNet()\n",
    " \n",
    "loss_fn = torch.nn.MSELoss(size_average=False)\n",
    "loss_val_fn = torch.nn.MSELoss(size_average=False)\n",
    "\n",
    "optimizer = torch.optim.SGD(func_net.parameters(), lr=1e-4)\n",
    "\n",
    "C = 100\n",
    "batch_size = 32\n",
    "\n",
    "f = lambda x: torch.sqrt(torch.mul(x, C))\n",
    "\n",
    "for epoch in range(50000):\n",
    "    x = Variable(torch.mul(torch.rand(batch_size, 1), 100)).cuda()\n",
    "    y_pred = func_net(x)\n",
    "    y = f(x)\n",
    "    \n",
    "    tr_loss = loss_fn(y_pred, y)\n",
    "    \n",
    "    x_val = Variable(torch.mul(torch.rand(batch_size, 1), 100), requires_grad=False).cuda()\n",
    "    y_val = f(x_val)\n",
    "    y_val_pred = func_net(x_val)\n",
    "    val_loss = loss_val_fn(y_val_pred, y_val)\n",
    "        \n",
    "    if epoch % 5000 == 0:\n",
    "        print(\"({2}) Losses: {0:.5f} {1:.5f}\".format(tr_loss.data.cpu().numpy()[0], val_loss.data.cpu().numpy()[0], epoch))\n",
    "\n",
    "    optimizer.zero_grad()\n",
    "    tr_loss.backward()\n",
    "    optimizer.step()"
   ]
  },
  {
   "cell_type": "code",
   "execution_count": 41,
   "metadata": {},
   "outputs": [
    {
     "data": {
      "image/png": "[encoded data removed]",
      "text/plain": [
       "<matplotlib.figure.Figure at 0x7fc29732b250>"
      ]
     },
     "metadata": {},
     "output_type": "display_data"
    }
   ],
   "source": [
    "x_pred = Variable(torch.linspace(1, 50, steps=25).view(-1,1), requires_grad=False).cuda()\n",
    "y_pred = func_net(x_pred)\n",
    "y_true = f(x_pred)\n",
    "\n",
    "plt.figure(1)\n",
    "plt.subplot(211)\n",
    "plt.axis('equal')\n",
    "plt.xlim((1, 5))\n",
    "plt.scatter(x_pred.data.cpu().numpy(), y_pred.data.cpu().numpy())\n",
    "\n",
    "plt.figure(1)\n",
    "plt.subplot(212)\n",
    "plt.axis('equal')\n",
    "# plt.xlim((1, 50))\n",
    "plt.scatter(x_pred.data.cpu().numpy(), y_true.data.cpu().numpy())\n",
    "\n",
    "\n",
    "plt.show()"
   ]
  },
  {
   "cell_type": "code",
   "execution_count": null,
   "metadata": {},
   "outputs": [],
   "source": [
    ""
   ]
  }
 ],
 "metadata": {
  "kernelspec": {
   "display_name": "Python 2",
   "language": "python",
   "name": "python2"
  },
  "language_info": {
   "codemirror_mode": {
    "name": "ipython",
    "version": 2.0
   },
   "file_extension": ".py",
   "mimetype": "text/x-python",
   "name": "python",
   "nbconvert_exporter": "python",
   "pygments_lexer": "ipython2",
   "version": "2.7.6"
  }
 },
 "nbformat": 4,
 "nbformat_minor": 0
}