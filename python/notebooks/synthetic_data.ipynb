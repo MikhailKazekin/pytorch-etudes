{
 "cells": [
  {
   "cell_type": "code",
   "execution_count": 1,
   "metadata": {
    "collapsed": true
   },
   "outputs": [],
   "source": [
    "import matplotlib.pyplot as plt\n",
    "import numpy as np"
   ]
  },
  {
   "cell_type": "code",
   "execution_count": 1,
   "metadata": {},
   "outputs": [],
   "source": [
    "ar = np.load('/home/kazmikh/Projects/mask_rcnn/pytorch-etudes/python/notebooks/test_sin.npy')"
   ]
  },
  {
   "cell_type": "code",
   "execution_count": 3,
   "metadata": {},
   "outputs": [
    {
     "name": "stdout",
     "output_type": "stream",
     "text": [
      "Losses: 1.8194716 1.8194716\nLosses: 1.8141961 1.8141961\nLosses: 1.8089368 1.8089368\nLosses: 1.8036937 1.8036937\nLosses: 1.7984667 1.7984667\nLosses: 1.7932556 1.7932556\nLosses: 1.7880605 1.7880605\nLosses: 1.7828815 1.7828815\nLosses: 1.7777181 1.7777181\nLosses: 1.7725705 1.7725705\nLosses: 1.7674389 1.7674389\nLosses: 1.7623230 1.7623230\nLosses: 1.7572221 1.7572221\nLosses: 1.7521374 1.7521374\nLosses: 1.7470679 1.7470679\nLosses: 1.7420141 1.7420141\nLosses: 1.7369756 1.7369756\nLosses: 1.7319525 1.7319525\nLosses: 1.7269447 1.7269447\nLosses: 1.7219522 1.7219522\nLosses: 1.7169747 1.7169747\nLosses: 1.7120126 1.7120126\nLosses: 1.7070655 1.7070655\nLosses: 1.7021335 1.7021335\nLosses: 1.6972165 1.6972165\nLosses: 1.6923147 1.6923147\nLosses: 1.6874276 1.6874276\nLosses: 1.6825554 1.6825554\nLosses: 1.6776978 1.6776978\nLosses: 1.6728553 1.6728553\nLosses: 1.6680273 1.6680273\nLosses: 1.6632142 1.6632142\nLosses: 1.6584152 1.6584152\nLosses: 1.6536311 1.6536311\nLosses: 1.6488612 1.6488612\nLosses: 1.6441061 1.6441061\nLosses: 1.6393657 1.6393657\nLosses: 1.6346393 1.6346393\nLosses: 1.6299270 1.6299270\nLosses: 1.6252291 1.6252291\nLosses: 1.6205457 1.6205457\nLosses: 1.6158760 1.6158760\nLosses: 1.6112211 1.6112211\nLosses: 1.6065797 1.6065797\nLosses: 1.6019527 1.6019527\nLosses: 1.5973394 1.5973394\nLosses: 1.5927399 1.5927399\nLosses: 1.5881546 1.5881546\nLosses: 1.5835831 1.5835831\nLosses: 1.5790254 1.5790254\n"
     ]
    }
   ],
   "source": [
    "import numpy as np\n",
    "\n",
    "import torch\n",
    "from torch.autograd import Variable\n",
    "from torch.nn.modules.module import Module\n",
    "\n",
    "\n",
    "class SinNet(Module):\n",
    "\n",
    "    def __init__(self):\n",
    "        super(SinNet, self).__init__()\n",
    "\n",
    "        H = 20\n",
    "        self._layers = [\n",
    "            torch.nn.Linear(1, H),\n",
    "            torch.nn.ReLU(),\n",
    "            torch.nn.Linear(H, 1),\n",
    "        ]\n",
    "\n",
    "        self._model = torch.nn.Sequential(*self._layers)\n",
    "        self._model.cuda()\n",
    "\n",
    "    def forward(self, *input):\n",
    "        return self._model(*input)\n",
    "\n",
    "sin_net = SinNet()\n",
    "\n",
    "x_tr = Variable(torch.rand(1, 1)).cuda()\n",
    "x_val = Variable(torch.rand(500, 1), requires_grad=False).cuda()\n",
    "\n",
    "C = 10\n",
    "y_val = torch.sin(torch.mul(x_val, C))\n",
    "\n",
    "criterion_fn = torch.nn.MSELoss(size_average=False)\n",
    "optimizer = torch.optim.SGD(sin_net.parameters(), lr=1e-4)\n",
    "\n",
    "for i in range(50):\n",
    "    y_tr = torch.sin(torch.mul(x_tr, C))\n",
    "    y_pred = sin_net(x_tr)\n",
    "\n",
    "    tr_loss = criterion_fn(y_pred, y_tr)\n",
    "\n",
    "    y_pred_val = sin_net(x_val)\n",
    "    val_loss = criterion_fn(y_pred_val, y_val)\n",
    "    \n",
    "    print(\"Losses: {0:.7f} {0:.7f}\".format(tr_loss.data[0], val_loss.data[0]))\n",
    "\n",
    "    optimizer.zero_grad()\n",
    "    tr_loss.backward()\n",
    "    optimizer.step()\n",
    "\n",
    "x_pred = Variable(torch.mul(torch.rand(500, 1), C), requires_grad=False).cuda()\n",
    "y_pred = sin_net(x_pred)"
   ]
  },
  {
   "cell_type": "code",
   "execution_count": 3,
   "metadata": {},
   "outputs": [
    {
     "data": {
      "image/png": "[encoded data removed]",
      "text/plain": [
       "<matplotlib.figure.Figure at 0x7f205f5a5050>"
      ]
     },
     "metadata": {},
     "output_type": "display_data"
    }
   ],
   "source": [
    "plt.plot(ar[:,0], ar[:,1])\n",
    "plt.show()"
   ]
  },
  {
   "cell_type": "code",
   "execution_count": null,
   "metadata": {},
   "outputs": [],
   "source": [
    ""
   ]
  }
 ],
 "metadata": {
  "kernelspec": {
   "display_name": "Python 2",
   "language": "python",
   "name": "python2"
  },
  "language_info": {
   "codemirror_mode": {
    "name": "ipython",
    "version": 2.0
   },
   "file_extension": ".py",
   "mimetype": "text/x-python",
   "name": "python",
   "nbconvert_exporter": "python",
   "pygments_lexer": "ipython2",
   "version": "2.7.6"
  }
 },
 "nbformat": 4,
 "nbformat_minor": 0
}